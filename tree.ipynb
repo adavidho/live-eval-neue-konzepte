{
 "cells": [
  {
   "cell_type": "code",
   "execution_count": 15,
   "metadata": {},
   "outputs": [],
   "source": [
    "import os\n",
    "import sys\n",
    "import importlib\n",
    "path=os.getcwd()\n",
    "if (path not in sys.path):\n",
    "    sys.path.append(path)\n",
    "import webNode\n"
   ]
  },
  {
   "cell_type": "markdown",
   "metadata": {},
   "source": [
    "### create a small tree"
   ]
  },
  {
   "cell_type": "code",
   "execution_count": 34,
   "metadata": {},
   "outputs": [],
   "source": [
    "importlib.reload(webNode);\n",
    "\n",
    "root=webNode.WebNode(\"https://dhbw-mannheim.de\")\n",
    "child1=webNode.WebNode(\"https://dhbw-mannheim.de/kontakt.html\")\n",
    "child2=webNode.WebNode(\"https://dhbw-mannheim.de/agb.html\")\n",
    "grandChild1=webNode.WebNode(\"https://dhbw-mannheim.de/agb-terms.html\")\n",
    "root.addChild(child1)\n",
    "root.addChild(child2)\n",
    "child2.addChild(grandChild1)"
   ]
  },
  {
   "cell_type": "code",
   "execution_count": 22,
   "metadata": {
    "scrolled": true
   },
   "outputs": [
    {
     "data": {
      "text/plain": [
       "[<webNode.WebNode at 0x1dd7d7984c0>, <webNode.WebNode at 0x1dd7d9605b0>]"
      ]
     },
     "execution_count": 22,
     "metadata": {},
     "output_type": "execute_result"
    }
   ],
   "source": [
    "root.childs()"
   ]
  },
  {
   "cell_type": "code",
   "execution_count": 20,
   "metadata": {
    "scrolled": true
   },
   "outputs": [
    {
     "name": "stdout",
     "output_type": "stream",
     "text": [
      "https://dhbw-mannheim.de with 2 kids\n"
     ]
    }
   ],
   "source": [
    "print(root)"
   ]
  },
  {
   "cell_type": "code",
   "execution_count": 36,
   "metadata": {},
   "outputs": [
    {
     "name": "stdout",
     "output_type": "stream",
     "text": [
      "https://dhbw-mannheim.de/agb.html with 1 kids\n"
     ]
    }
   ],
   "source": [
    "print(root.next())"
   ]
  }
 ],
 "metadata": {
  "kernelspec": {
   "display_name": "Python 3 (ipykernel)",
   "language": "python",
   "name": "python3"
  },
  "language_info": {
   "codemirror_mode": {
    "name": "ipython",
    "version": 3
   },
   "file_extension": ".py",
   "mimetype": "text/x-python",
   "name": "python",
   "nbconvert_exporter": "python",
   "pygments_lexer": "ipython3",
   "version": "3.9.0"
  }
 },
 "nbformat": 4,
 "nbformat_minor": 4
}
