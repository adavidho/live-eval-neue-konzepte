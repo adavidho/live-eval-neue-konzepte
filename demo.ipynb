{
 "cells": [
  {
   "cell_type": "markdown",
   "metadata": {},
   "source": [
    "# Call Image Crawler\n"
   ]
  },
  {
   "cell_type": "code",
   "execution_count": 9,
   "metadata": {},
   "outputs": [],
   "source": [
    "import os\n",
    "import sys\n",
    "import importlib\n",
    "path=os.getcwd()\n",
    "if (path not in sys.path):\n",
    "    sys.path.append(path)\n",
    "import imageCrawler\n"
   ]
  },
  {
   "cell_type": "markdown",
   "metadata": {},
   "source": [
    "### just for testing, craws a webpage and returns a list of urls and list of images"
   ]
  },
  {
   "cell_type": "code",
   "execution_count": 32,
   "metadata": {},
   "outputs": [
    {
     "data": {
      "text/plain": [
       "([\"data:image/svg+xml,%3Csvg%20xmlns='http://www.w3.org/2000/svg'%20viewBox='0%200%200%200'%3E%3C/svg%3E\",\n",
       "  'https://blender3dschool.de/wp-content/uploads/2023/01/summerschool_logo_2023_purple-magentaNight_width50px.svg',\n",
       "  \"data:image/svg+xml,%3Csvg%20xmlns='http://www.w3.org/2000/svg'%20viewBox='0%200%20300%20300'%3E%3C/svg%3E\",\n",
       "  'https://blender3dschool.de/wp-content/uploads/2023/01/summerschool_logo_2023_white-magentaNight.svg',\n",
       "  \"data:image/svg+xml,%3Csvg%20xmlns='http://www.w3.org/2000/svg'%20viewBox='0%200%201920%201080'%3E%3C/svg%3E\",\n",
       "  'https://blender3dschool.de/wp-content/uploads/2024/02/editorial-img-tobiasFroehlich_lq.jpg',\n",
       "  \"data:image/svg+xml,%3Csvg%20xmlns='http://www.w3.org/2000/svg'%20viewBox='0%200%20200%20300'%3E%3C/svg%3E\",\n",
       "  'https://blender3dschool.de/wp-content/uploads/2024/02/tf-portraet_lq-200x300.jpg',\n",
       "  \"data:image/svg+xml,%3Csvg%20xmlns='http://www.w3.org/2000/svg'%20viewBox='0%200%200%200'%3E%3C/svg%3E\",\n",
       "  'https://blender3dschool.de/wp-content/uploads/2024/02/damarisStevens.png',\n",
       "  \"data:image/svg+xml,%3Csvg%20xmlns='http://www.w3.org/2000/svg'%20viewBox='0%200%200%200'%3E%3C/svg%3E\",\n",
       "  'https://blender3dschool.de/wp-content/uploads/2024/04/Aykut_cropped.png',\n",
       "  \"data:image/svg+xml,%3Csvg%20xmlns='http://www.w3.org/2000/svg'%20viewBox='0%200%200%200'%3E%3C/svg%3E\",\n",
       "  'https://blender3dschool.de/wp-content/uploads/2024/04/natalieKienle_round.png',\n",
       "  \"data:image/svg+xml,%3Csvg%20xmlns='http://www.w3.org/2000/svg'%20viewBox='0%200%200%200'%3E%3C/svg%3E\",\n",
       "  'https://blender3dschool.de/wp-content/uploads/2024/03/Vavrinec_400px_round.png',\n",
       "  \"data:image/svg+xml,%3Csvg%20xmlns='http://www.w3.org/2000/svg'%20viewBox='0%200%200%200'%3E%3C/svg%3E\",\n",
       "  'https://blender3dschool.de/wp-content/uploads/2024/02/SusanneDoehle.png',\n",
       "  \"data:image/svg+xml,%3Csvg%20xmlns='http://www.w3.org/2000/svg'%20viewBox='0%200%200%200'%3E%3C/svg%3E\",\n",
       "  'https://blender3dschool.de/wp-content/uploads/2024/04/edouardsimon_round.png',\n",
       "  \"data:image/svg+xml,%3Csvg%20xmlns='http://www.w3.org/2000/svg'%20viewBox='0%200%200%200'%3E%3C/svg%3E\",\n",
       "  'https://blender3dschool.de/wp-content/uploads/2024/03/IngaSchaefer_1to1.png',\n",
       "  \"data:image/svg+xml,%3Csvg%20xmlns='http://www.w3.org/2000/svg'%20viewBox='0%200%20640%20360'%3E%3C/svg%3E\",\n",
       "  'https://blender3dschool.de/wp-content/uploads/2023/03/teaser_blender3dschool_youtube.jpg',\n",
       "  \"data:image/svg+xml,%3Csvg%20xmlns='http://www.w3.org/2000/svg'%20viewBox='0%200%20750%20350'%3E%3C/svg%3E\",\n",
       "  'https://blender3dschool.de/wp-content/uploads/2022/02/Mafinex_Mannheim_elaspix.jpg',\n",
       "  \"data:image/svg+xml,%3Csvg%20xmlns='http://www.w3.org/2000/svg'%20viewBox='0%200%201280%20597'%3E%3C/svg%3E\",\n",
       "  'https://blender3dschool.de/wp-content/uploads/2022/02/Mafinex_hub_2022.jpg',\n",
       "  \"data:image/svg+xml,%3Csvg%20xmlns='http://www.w3.org/2000/svg'%20viewBox='0%200%201280%20597'%3E%3C/svg%3E\",\n",
       "  'https://blender3dschool.de/wp-content/uploads/2022/02/Mafinex_hub_single_2022.jpg',\n",
       "  \"data:image/svg+xml,%3Csvg%20xmlns='http://www.w3.org/2000/svg'%20viewBox='0%200%20300%20300'%3E%3C/svg%3E\",\n",
       "  'https://blender3dschool.de/wp-content/uploads/2022/01/NextMannheim_Mafinex.svg',\n",
       "  \"data:image/svg+xml,%3Csvg%20xmlns='http://www.w3.org/2000/svg'%20viewBox='0%200%20300%20120'%3E%3C/svg%3E\",\n",
       "  'https://blender3dschool.de/wp-content/uploads/2023/01/elaspix_logo_50x20mm.svg',\n",
       "  \"data:image/svg+xml,%3Csvg%20xmlns='http://www.w3.org/2000/svg'%20viewBox='0%200%20640%20640'%3E%3C/svg%3E\",\n",
       "  'https://blender3dschool.de/wp-content/uploads/2022/03/DP_Logo_schwarz_2zeilig_crop1.svg'],\n",
       " ['https://blender3dschool.de',\n",
       "  'https://blender3dschool.de/season2024/blender_day_2024/',\n",
       "  'https://blender3dschool.de/anfahrt/',\n",
       "  'https://blender3dschool.de/faq/',\n",
       "  'https://blender3dschool.de/kontakt-2/',\n",
       "  'https://workshops.blender3dschool.de/',\n",
       "  '#content',\n",
       "  'https://workshops.blender3dschool.de',\n",
       "  'https://blender3dschool.de/season2024/invited-talk-creating-the-viking-character/',\n",
       "  'https://blender3dschool.de/season2024/industrielle-produktion-mit-blender/',\n",
       "  'https://blender3dschool.de/season2024/virtuell-das-revival-des-ornaments/',\n",
       "  'https://blender3dschool.de/season2024/die-entstehung-des-wohnblock-unimog-in-blender/',\n",
       "  'https://blender3dschool.de/season2024/shapedith/',\n",
       "  'https://blender3dschool.de/season2024/blender-badges-in-education/',\n",
       "  'https://blender3dschool.de/season2024/starboost/',\n",
       "  'https://blender3dschool.de/season2024/blender_day_2024/',\n",
       "  'https://youtu.be/1kjK52cGcPk',\n",
       "  'https://workshops.blender3dschool.de',\n",
       "  'https://blender3dschool.de/einsteiger',\n",
       "  'https://blender3dschool.de/animation-workshops/',\n",
       "  'https://blender3dschool.de/season2022/anfahrt-2022/',\n",
       "  'https://mafinex.next-mannheim.de/',\n",
       "  'http://www.elaspix.de',\n",
       "  'https://www.digitalproduction.com/',\n",
       "  'https://blender3dschool.de/faq/',\n",
       "  'https://blender-forum.de',\n",
       "  'https://blender3dschool.de/presse-2023/',\n",
       "  'https://blender3dschool.de/kontakt-2/',\n",
       "  'https://blender3dschool.de/pdf-archiv/',\n",
       "  'https://blender3dschool.de/blender-kennenlernen/',\n",
       "  'https://blender3dschool.de/timetable/',\n",
       "  'https://blender3dschool.de/timetable-2019/',\n",
       "  'https://blender3dschool.de/blender_day_2020_online/',\n",
       "  'https://blender3dschool.de/blender_day_2021_online/',\n",
       "  'https://blender3dschool.de/season2022',\n",
       "  'https://blender3dschool.de/season2023',\n",
       "  'https://blender3dschool.de/waln0t/',\n",
       "  'https://blender3dschool.de/season2022/kegelrobbe/',\n",
       "  'http://elaspix.de/impressum',\n",
       "  'https://www.facebook.com/BlenderVerein',\n",
       "  'https://twitter.com/blenderday',\n",
       "  'https://www.youtube.com/channel/UCIyugNHzpbW9zR-pHdOb4mA',\n",
       "  'https://www.linkedin.com/in/tobias-guenther',\n",
       "  'https://www.instagram.com/blender3dschool/'])"
      ]
     },
     "execution_count": 32,
     "metadata": {},
     "output_type": "execute_result"
    }
   ],
   "source": [
    "importlib.reload(imageCrawler);\n",
    "\n",
    "result=imageCrawler.parse(\"https://blender3dschool.de/\",verbose=False);\n",
    "result"
   ]
  },
  {
   "cell_type": "code",
   "execution_count": 27,
   "metadata": {},
   "outputs": [
    {
     "data": {
      "text/plain": [
       "True"
      ]
     },
     "execution_count": 27,
     "metadata": {},
     "output_type": "execute_result"
    }
   ],
   "source": [
    "myJSON={\"param1\":\"value1\"}\n",
    "\"param1\" in myJSON"
   ]
  },
  {
   "cell_type": "markdown",
   "metadata": {},
   "source": [
    "# Toy Tree"
   ]
  },
  {
   "cell_type": "code",
   "execution_count": null,
   "metadata": {},
   "outputs": [],
   "source": [
    "import os\n",
    "import sys\n",
    "import importlib\n",
    "path=os.getcwd()\n",
    "if (path not in sys.path):\n",
    "    sys.path.append(path)\n",
    "import webNode"
   ]
  },
  {
   "cell_type": "markdown",
   "metadata": {},
   "source": [
    "## Create a small tree"
   ]
  },
  {
   "cell_type": "code",
   "execution_count": null,
   "metadata": {},
   "outputs": [],
   "source": [
    "importlib.reload(webNode);\n",
    "\n",
    "root=webNode.WebNode(\"https://dhbw-mannheim.de\")\n",
    "child1=webNode.WebNode(\"https://dhbw-mannheim.de/kontakt.html\")\n",
    "child2=webNode.WebNode(\"https://dhbw-mannheim.de/agb.html\")\n",
    "grandChild1=webNode.WebNode(\"https://dhbw-mannheim.de/agb-terms.html\")\n",
    "root.addChild(child1)\n",
    "root.addChild(child2)\n",
    "child2.addChild(grandChild1)"
   ]
  },
  {
   "cell_type": "code",
   "execution_count": null,
   "metadata": {},
   "outputs": [],
   "source": [
    "root.childs()"
   ]
  },
  {
   "cell_type": "code",
   "execution_count": null,
   "metadata": {},
   "outputs": [],
   "source": [
    "print(root)"
   ]
  },
  {
   "cell_type": "code",
   "execution_count": null,
   "metadata": {},
   "outputs": [],
   "source": [
    "print(root.next())"
   ]
  },
  {
   "cell_type": "markdown",
   "metadata": {},
   "source": [
    "# Images Tree"
   ]
  },
  {
   "cell_type": "code",
   "execution_count": null,
   "metadata": {},
   "outputs": [],
   "source": [
    "import os\n",
    "import sys\n",
    "import importlib\n",
    "path=os.getcwd()\n",
    "if (path not in sys.path):\n",
    "    sys.path.append(path)\n",
    "import imagesTree\n",
    "import imageCrawler"
   ]
  },
  {
   "cell_type": "code",
   "execution_count": null,
   "metadata": {},
   "outputs": [],
   "source": [
    "importlib.reload(imagesTree)\n",
    "importlib.reload(imageCrawler)\n",
    "excludeList=[\"http://intranet.dhbw-mannheim.de\"]\n",
    "myTree=imagesTree.ImagesTree(\"https://dhbw-mannheim.de\",excludeList)"
   ]
  },
  {
   "cell_type": "code",
   "execution_count": null,
   "metadata": {},
   "outputs": [],
   "source": [
    "myTree.expand()"
   ]
  },
  {
   "cell_type": "code",
   "execution_count": null,
   "metadata": {},
   "outputs": [],
   "source": [
    "print(myTree.getRoot().next())"
   ]
  },
  {
   "cell_type": "code",
   "execution_count": null,
   "metadata": {},
   "outputs": [],
   "source": [
    "print(myTree.getRoot().next().getImages())"
   ]
  },
  {
   "cell_type": "markdown",
   "metadata": {},
   "source": [
    "# Hash Traverse Tree"
   ]
  },
  {
   "cell_type": "code",
   "execution_count": null,
   "metadata": {},
   "outputs": [],
   "source": [
    "import os\n",
    "import sys\n",
    "import importlib\n",
    "path=os.getcwd()\n",
    "if (path not in sys.path):\n",
    "    sys.path.append(path)\n",
    "import imagesTree\n",
    "import imageCrawler\n",
    "import re\n"
   ]
  },
  {
   "cell_type": "code",
   "execution_count": null,
   "metadata": {},
   "outputs": [],
   "source": [
    "importlib.reload(imagesTree)\n",
    "importlib.reload(imageCrawler)\n",
    "excludeList=[\"http://intranet.dhbw-mannheim.de\"]\n",
    "myTree=imagesTree.ImagesTree(\"https://dhbw-mannheim.de\",excludeList)"
   ]
  },
  {
   "cell_type": "code",
   "execution_count": null,
   "metadata": {},
   "outputs": [],
   "source": [
    "for i in range(1000):\n",
    "    myTree.expand()"
   ]
  },
  {
   "cell_type": "markdown",
   "metadata": {},
   "source": [
    "## Define Tree Traversal"
   ]
  },
  {
   "cell_type": "code",
   "execution_count": null,
   "metadata": {},
   "outputs": [],
   "source": [
    "# Recursive Implemetation O(n)\n",
    "# all_images = set()\n",
    "# def pre_order_rec(node) -> None:\n",
    "#     all_images.union(node.getImages())\n",
    "#     if node.hasChildren():\n",
    "#         for child in node.childs():\n",
    "#             pre_order_rec(node)\n",
    "#     return None\n",
    "# all_images = pre_order_rec(myTree.getRoot())\n",
    "# all_images"
   ]
  },
  {
   "cell_type": "code",
   "execution_count": null,
   "metadata": {},
   "outputs": [],
   "source": [
    "# Iterative Pre-Order - time: O(n), space: O(n)\n",
    "def pre_order_iter(node) -> list:\n",
    "    all_images = []\n",
    "    stack = [node]\n",
    "    while stack:\n",
    "        node = stack.pop()\n",
    "        stack.extend(node.childs())\n",
    "        all_images.extend(node.getImages())\n",
    "    return all_images    \n",
    "all_images = pre_order_iter(myTree.getRoot())\n",
    "all_images"
   ]
  },
  {
   "cell_type": "code",
   "execution_count": null,
   "metadata": {},
   "outputs": [],
   "source": [
    "# Iterative Level-Order O(n)\n",
    "from collections import deque\n",
    "def level_order_iter(node) -> list:\n",
    "    all_images = []\n",
    "    queue = deque([node])\n",
    "    while queue:\n",
    "        node = queue.popleft()\n",
    "        queue.extend(node.childs())\n",
    "        all_images.extend(node.getImages())\n",
    "    return all_images\n",
    "all_images = level_order_iter(myTree.getRoot())\n",
    "all_images"
   ]
  },
  {
   "cell_type": "markdown",
   "metadata": {},
   "source": [
    "## Hash Images"
   ]
  },
  {
   "cell_type": "code",
   "execution_count": null,
   "metadata": {},
   "outputs": [],
   "source": [
    "def get_tokens(img_url):\n",
    "    clean_url = re.split(r'[^a-zA-Z]+', img_url)\n",
    "    clean_url = [token.lower() for token in clean_url if len(token)>2]\n",
    "    return clean_url"
   ]
  },
  {
   "cell_type": "code",
   "execution_count": null,
   "metadata": {},
   "outputs": [],
   "source": [
    "# Get image tokens\n",
    "all_img_tokens = list()\n",
    "for img_url in all_images:\n",
    "    all_img_tokens.append((get_tokens(img_url), img_url))"
   ]
  },
  {
   "cell_type": "code",
   "execution_count": null,
   "metadata": {},
   "outputs": [],
   "source": [
    "def create_hash_table(all_img_tokens):\n",
    "    hash_table = dict()\n",
    "    for keys, img_url in all_img_tokens:\n",
    "        for key in keys:\n",
    "            if key in hash_table:\n",
    "                hash_table[key].add(img_url)\n",
    "            else:\n",
    "                hash_table[key] = {img_url}\n",
    "    return hash_table\n",
    "hash_table = create_hash_table(all_img_tokens)\n",
    "print(hash_table.keys())"
   ]
  },
  {
   "cell_type": "code",
   "execution_count": null,
   "metadata": {},
   "outputs": [],
   "source": [
    "len(all_images)"
   ]
  },
  {
   "cell_type": "code",
   "execution_count": null,
   "metadata": {},
   "outputs": [],
   "source": [
    "len(hash_table.keys())"
   ]
  }
 ],
 "metadata": {
  "kernelspec": {
   "display_name": "Python 3 (ipykernel)",
   "language": "python",
   "name": "python3"
  },
  "language_info": {
   "codemirror_mode": {
    "name": "ipython",
    "version": 3
   },
   "file_extension": ".py",
   "mimetype": "text/x-python",
   "name": "python",
   "nbconvert_exporter": "python",
   "pygments_lexer": "ipython3",
   "version": "3.9.0"
  }
 },
 "nbformat": 4,
 "nbformat_minor": 4
}
