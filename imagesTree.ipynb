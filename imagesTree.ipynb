{
 "cells": [
  {
   "cell_type": "code",
   "execution_count": 1,
   "id": "ee4064eb",
   "metadata": {},
   "outputs": [],
   "source": [
    "import os\n",
    "import sys\n",
    "import importlib\n",
    "path=os.getcwd()\n",
    "if (path not in sys.path):\n",
    "    sys.path.append(path)\n",
    "import imagesTree\n",
    "import imageCrawler\n"
   ]
  },
  {
   "cell_type": "code",
   "execution_count": 99,
   "id": "95151589",
   "metadata": {
    "scrolled": true
   },
   "outputs": [],
   "source": [
    "importlib.reload(imagesTree)\n",
    "importlib.reload(imageCrawler)\n",
    "excludeList=[\"http://intranet.dhbw-mannheim.de\"]\n",
    "myTree=imagesTree.ImagesTree(\"https://dhbw-mannheim.de\",excludeList)"
   ]
  },
  {
   "cell_type": "code",
   "execution_count": 130,
   "id": "e11151fe",
   "metadata": {
    "scrolled": true
   },
   "outputs": [
    {
     "name": "stdout",
     "output_type": "stream",
     "text": [
      "crawl https://dhbw-mannheim.de/duale-partner/duale-partner/duale-partnerschaft\n",
      "found images/links 11 215 remaining nodes 4796\n"
     ]
    }
   ],
   "source": [
    "myTree.expand()"
   ]
  },
  {
   "cell_type": "code",
   "execution_count": 146,
   "id": "6f445d11",
   "metadata": {},
   "outputs": [
    {
     "name": "stdout",
     "output_type": "stream",
     "text": [
      "https://dhbw-mannheim.de/studium/vor-dem-studium/das-duale-studium with 0 kids\n"
     ]
    }
   ],
   "source": [
    "print(myTree.getRoot().next())"
   ]
  },
  {
   "cell_type": "code",
   "execution_count": 147,
   "id": "a8626b63",
   "metadata": {
    "scrolled": true
   },
   "outputs": [
    {
     "name": "stdout",
     "output_type": "stream",
     "text": [
      "['/typo3conf/ext/dhbw_clients/Resources/Public/Mannheim/Images/logo-mannheim.svg', '/typo3conf/ext/dhbw_core/Resources/Public/Images/DHBW_50_Jahre_logo.svg', '/fileadmin/user_upload/Bilder/Header/H-Studienberatung-Studierende-Studienwahl-Gespraech.jpg', '/fileadmin/user_upload/Bilder/Mitarbeiter/Stumpf_Linda_DSC_7070_web.jpg', '/fileadmin/user_upload/Bilder/Mitarbeiter/Mroczek_Ewa_DSC_9693_web.jpg']\n"
     ]
    }
   ],
   "source": [
    "print(myTree.getRoot().next().getImages())"
   ]
  }
 ],
 "metadata": {
  "kernelspec": {
   "display_name": "Python 3 (ipykernel)",
   "language": "python",
   "name": "python3"
  },
  "language_info": {
   "codemirror_mode": {
    "name": "ipython",
    "version": 3
   },
   "file_extension": ".py",
   "mimetype": "text/x-python",
   "name": "python",
   "nbconvert_exporter": "python",
   "pygments_lexer": "ipython3",
   "version": "3.11.5"
  }
 },
 "nbformat": 4,
 "nbformat_minor": 5
}
