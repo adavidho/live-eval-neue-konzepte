{
 "cells": [
  {
   "cell_type": "code",
   "execution_count": 9,
   "metadata": {},
   "outputs": [],
   "source": [
    "import os\n",
    "import sys\n",
    "import importlib\n",
    "path=os.getcwd()\n",
    "if (path not in sys.path):\n",
    "    sys.path.append(path)\n",
    "import imageCrawler\n"
   ]
  },
  {
   "cell_type": "markdown",
   "metadata": {},
   "source": [
    "### just for testing, craws a webpage and returns a list of urls and list of images"
   ]
  },
  {
   "cell_type": "code",
   "execution_count": 32,
   "metadata": {},
   "outputs": [
    {
     "data": {
      "text/plain": [
       "([\"data:image/svg+xml,%3Csvg%20xmlns='http://www.w3.org/2000/svg'%20viewBox='0%200%200%200'%3E%3C/svg%3E\",\n",
       "  'https://blender3dschool.de/wp-content/uploads/2023/01/summerschool_logo_2023_purple-magentaNight_width50px.svg',\n",
       "  \"data:image/svg+xml,%3Csvg%20xmlns='http://www.w3.org/2000/svg'%20viewBox='0%200%20300%20300'%3E%3C/svg%3E\",\n",
       "  'https://blender3dschool.de/wp-content/uploads/2023/01/summerschool_logo_2023_white-magentaNight.svg',\n",
       "  \"data:image/svg+xml,%3Csvg%20xmlns='http://www.w3.org/2000/svg'%20viewBox='0%200%201920%201080'%3E%3C/svg%3E\",\n",
       "  'https://blender3dschool.de/wp-content/uploads/2024/02/editorial-img-tobiasFroehlich_lq.jpg',\n",
       "  \"data:image/svg+xml,%3Csvg%20xmlns='http://www.w3.org/2000/svg'%20viewBox='0%200%20200%20300'%3E%3C/svg%3E\",\n",
       "  'https://blender3dschool.de/wp-content/uploads/2024/02/tf-portraet_lq-200x300.jpg',\n",
       "  \"data:image/svg+xml,%3Csvg%20xmlns='http://www.w3.org/2000/svg'%20viewBox='0%200%200%200'%3E%3C/svg%3E\",\n",
       "  'https://blender3dschool.de/wp-content/uploads/2024/02/damarisStevens.png',\n",
       "  \"data:image/svg+xml,%3Csvg%20xmlns='http://www.w3.org/2000/svg'%20viewBox='0%200%200%200'%3E%3C/svg%3E\",\n",
       "  'https://blender3dschool.de/wp-content/uploads/2024/04/Aykut_cropped.png',\n",
       "  \"data:image/svg+xml,%3Csvg%20xmlns='http://www.w3.org/2000/svg'%20viewBox='0%200%200%200'%3E%3C/svg%3E\",\n",
       "  'https://blender3dschool.de/wp-content/uploads/2024/04/natalieKienle_round.png',\n",
       "  \"data:image/svg+xml,%3Csvg%20xmlns='http://www.w3.org/2000/svg'%20viewBox='0%200%200%200'%3E%3C/svg%3E\",\n",
       "  'https://blender3dschool.de/wp-content/uploads/2024/03/Vavrinec_400px_round.png',\n",
       "  \"data:image/svg+xml,%3Csvg%20xmlns='http://www.w3.org/2000/svg'%20viewBox='0%200%200%200'%3E%3C/svg%3E\",\n",
       "  'https://blender3dschool.de/wp-content/uploads/2024/02/SusanneDoehle.png',\n",
       "  \"data:image/svg+xml,%3Csvg%20xmlns='http://www.w3.org/2000/svg'%20viewBox='0%200%200%200'%3E%3C/svg%3E\",\n",
       "  'https://blender3dschool.de/wp-content/uploads/2024/04/edouardsimon_round.png',\n",
       "  \"data:image/svg+xml,%3Csvg%20xmlns='http://www.w3.org/2000/svg'%20viewBox='0%200%200%200'%3E%3C/svg%3E\",\n",
       "  'https://blender3dschool.de/wp-content/uploads/2024/03/IngaSchaefer_1to1.png',\n",
       "  \"data:image/svg+xml,%3Csvg%20xmlns='http://www.w3.org/2000/svg'%20viewBox='0%200%20640%20360'%3E%3C/svg%3E\",\n",
       "  'https://blender3dschool.de/wp-content/uploads/2023/03/teaser_blender3dschool_youtube.jpg',\n",
       "  \"data:image/svg+xml,%3Csvg%20xmlns='http://www.w3.org/2000/svg'%20viewBox='0%200%20750%20350'%3E%3C/svg%3E\",\n",
       "  'https://blender3dschool.de/wp-content/uploads/2022/02/Mafinex_Mannheim_elaspix.jpg',\n",
       "  \"data:image/svg+xml,%3Csvg%20xmlns='http://www.w3.org/2000/svg'%20viewBox='0%200%201280%20597'%3E%3C/svg%3E\",\n",
       "  'https://blender3dschool.de/wp-content/uploads/2022/02/Mafinex_hub_2022.jpg',\n",
       "  \"data:image/svg+xml,%3Csvg%20xmlns='http://www.w3.org/2000/svg'%20viewBox='0%200%201280%20597'%3E%3C/svg%3E\",\n",
       "  'https://blender3dschool.de/wp-content/uploads/2022/02/Mafinex_hub_single_2022.jpg',\n",
       "  \"data:image/svg+xml,%3Csvg%20xmlns='http://www.w3.org/2000/svg'%20viewBox='0%200%20300%20300'%3E%3C/svg%3E\",\n",
       "  'https://blender3dschool.de/wp-content/uploads/2022/01/NextMannheim_Mafinex.svg',\n",
       "  \"data:image/svg+xml,%3Csvg%20xmlns='http://www.w3.org/2000/svg'%20viewBox='0%200%20300%20120'%3E%3C/svg%3E\",\n",
       "  'https://blender3dschool.de/wp-content/uploads/2023/01/elaspix_logo_50x20mm.svg',\n",
       "  \"data:image/svg+xml,%3Csvg%20xmlns='http://www.w3.org/2000/svg'%20viewBox='0%200%20640%20640'%3E%3C/svg%3E\",\n",
       "  'https://blender3dschool.de/wp-content/uploads/2022/03/DP_Logo_schwarz_2zeilig_crop1.svg'],\n",
       " ['https://blender3dschool.de',\n",
       "  'https://blender3dschool.de/season2024/blender_day_2024/',\n",
       "  'https://blender3dschool.de/anfahrt/',\n",
       "  'https://blender3dschool.de/faq/',\n",
       "  'https://blender3dschool.de/kontakt-2/',\n",
       "  'https://workshops.blender3dschool.de/',\n",
       "  '#content',\n",
       "  'https://workshops.blender3dschool.de',\n",
       "  'https://blender3dschool.de/season2024/invited-talk-creating-the-viking-character/',\n",
       "  'https://blender3dschool.de/season2024/industrielle-produktion-mit-blender/',\n",
       "  'https://blender3dschool.de/season2024/virtuell-das-revival-des-ornaments/',\n",
       "  'https://blender3dschool.de/season2024/die-entstehung-des-wohnblock-unimog-in-blender/',\n",
       "  'https://blender3dschool.de/season2024/shapedith/',\n",
       "  'https://blender3dschool.de/season2024/blender-badges-in-education/',\n",
       "  'https://blender3dschool.de/season2024/starboost/',\n",
       "  'https://blender3dschool.de/season2024/blender_day_2024/',\n",
       "  'https://youtu.be/1kjK52cGcPk',\n",
       "  'https://workshops.blender3dschool.de',\n",
       "  'https://blender3dschool.de/einsteiger',\n",
       "  'https://blender3dschool.de/animation-workshops/',\n",
       "  'https://blender3dschool.de/season2022/anfahrt-2022/',\n",
       "  'https://mafinex.next-mannheim.de/',\n",
       "  'http://www.elaspix.de',\n",
       "  'https://www.digitalproduction.com/',\n",
       "  'https://blender3dschool.de/faq/',\n",
       "  'https://blender-forum.de',\n",
       "  'https://blender3dschool.de/presse-2023/',\n",
       "  'https://blender3dschool.de/kontakt-2/',\n",
       "  'https://blender3dschool.de/pdf-archiv/',\n",
       "  'https://blender3dschool.de/blender-kennenlernen/',\n",
       "  'https://blender3dschool.de/timetable/',\n",
       "  'https://blender3dschool.de/timetable-2019/',\n",
       "  'https://blender3dschool.de/blender_day_2020_online/',\n",
       "  'https://blender3dschool.de/blender_day_2021_online/',\n",
       "  'https://blender3dschool.de/season2022',\n",
       "  'https://blender3dschool.de/season2023',\n",
       "  'https://blender3dschool.de/waln0t/',\n",
       "  'https://blender3dschool.de/season2022/kegelrobbe/',\n",
       "  'http://elaspix.de/impressum',\n",
       "  'https://www.facebook.com/BlenderVerein',\n",
       "  'https://twitter.com/blenderday',\n",
       "  'https://www.youtube.com/channel/UCIyugNHzpbW9zR-pHdOb4mA',\n",
       "  'https://www.linkedin.com/in/tobias-guenther',\n",
       "  'https://www.instagram.com/blender3dschool/'])"
      ]
     },
     "execution_count": 32,
     "metadata": {},
     "output_type": "execute_result"
    }
   ],
   "source": [
    "importlib.reload(imageCrawler);\n",
    "\n",
    "result=imageCrawler.parse(\"https://blender3dschool.de/\",verbose=False);\n",
    "result"
   ]
  },
  {
   "cell_type": "code",
   "execution_count": 27,
   "metadata": {},
   "outputs": [
    {
     "data": {
      "text/plain": [
       "True"
      ]
     },
     "execution_count": 27,
     "metadata": {},
     "output_type": "execute_result"
    }
   ],
   "source": [
    "myJSON={\"param1\":\"value1\"}\n",
    "\"param1\" in myJSON"
   ]
  }
 ],
 "metadata": {
  "kernelspec": {
   "display_name": "Python 3 (ipykernel)",
   "language": "python",
   "name": "python3"
  },
  "language_info": {
   "codemirror_mode": {
    "name": "ipython",
    "version": 3
   },
   "file_extension": ".py",
   "mimetype": "text/x-python",
   "name": "python",
   "nbconvert_exporter": "python",
   "pygments_lexer": "ipython3",
   "version": "3.9.0"
  }
 },
 "nbformat": 4,
 "nbformat_minor": 4
}
